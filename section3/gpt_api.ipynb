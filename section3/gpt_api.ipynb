{
  "nbformat": 4,
  "nbformat_minor": 0,
  "metadata": {
    "colab": {
      "provenance": [],
      "authorship_tag": "ABX9TyPrBe+6+jfOD2FWUIj2uOAf",
      "include_colab_link": true
    },
    "kernelspec": {
      "name": "python3",
      "display_name": "Python 3"
    },
    "language_info": {
      "name": "python"
    }
  },
  "cells": [
    {
      "cell_type": "markdown",
      "metadata": {
        "id": "view-in-github",
        "colab_type": "text"
      },
      "source": [
        "<a href=\"https://colab.research.google.com/github/nyanta012/gcp-linebot-llm-tutorial/blob/main/section3/gpt_api.ipynb\" target=\"_parent\"><img src=\"https://colab.research.google.com/assets/colab-badge.svg\" alt=\"Open In Colab\"/></a>"
      ]
    },
    {
      "cell_type": "markdown",
      "source": [
        "# Google Colaboratoryのショートカットキー\n",
        "1. **現在のセルを実行し、次のセルを選択**: `Shift + Enter`\n",
        "2. **コードセルをテキストセルにする**: `Ctrl + M M`\n",
        "3. **コードセルを上に追加**: `Ctrl + M A`\n",
        "4. **コードセルを下に追加**: `Ctrl + M B`\n",
        "5. **セルの削除**: `Ctrl + M D`"
      ],
      "metadata": {
        "id": "Ah1evg3rFd9g"
      }
    },
    {
      "cell_type": "code",
      "source": [],
      "metadata": {
        "id": "CdJbstGNFjSk"
      },
      "execution_count": null,
      "outputs": []
    },
    {
      "cell_type": "code",
      "source": [],
      "metadata": {
        "id": "SjATsz4eUvl9"
      },
      "execution_count": null,
      "outputs": []
    },
    {
      "cell_type": "code",
      "source": [],
      "metadata": {
        "id": "PZec3FDMUUVz"
      },
      "execution_count": null,
      "outputs": []
    },
    {
      "cell_type": "markdown",
      "source": [
        "## 必要な機能のインストール"
      ],
      "metadata": {
        "id": "28I-koj2FjW_"
      }
    },
    {
      "cell_type": "code",
      "source": [
        "%%capture\n",
        "!pip install openai"
      ],
      "metadata": {
        "id": "-b8o-0-IFjah"
      },
      "execution_count": 1,
      "outputs": []
    },
    {
      "cell_type": "markdown",
      "source": [
        "## APIKeyの使用"
      ],
      "metadata": {
        "id": "mb4Nt_dOFjdy"
      }
    },
    {
      "cell_type": "code",
      "source": [
        "import getpass\n",
        "apikey = getpass.getpass(prompt = 'OpenAIのAPIキーを入力してください')\n",
        "\n",
        "import openai\n",
        "openai.api_key = apikey"
      ],
      "metadata": {
        "id": "GIJwAAPeFjg1",
        "colab": {
          "base_uri": "https://localhost:8080/"
        },
        "outputId": "c95029a0-9df1-4e00-fdc8-c90735ed33a1"
      },
      "execution_count": 2,
      "outputs": [
        {
          "name": "stdout",
          "output_type": "stream",
          "text": [
            "OpenAIのAPIキーを入力してください··········\n"
          ]
        }
      ]
    },
    {
      "cell_type": "markdown",
      "source": [
        "## ChatGPTを呼び出してみる"
      ],
      "metadata": {
        "id": "uUY5TdPfFrz6"
      }
    },
    {
      "cell_type": "code",
      "source": [
        "messages = [\n",
        "    {\"role\": \"system\", \"content\": \"あなたは親切な人工知能です\"},\n",
        "    {\"role\": \"user\", \"content\": \"友人の結婚式のスピーチの原稿を作ってください\"},\n",
        "]\n",
        "response = openai.ChatCompletion.create(\n",
        "    model=\"gpt-3.5-turbo\",\n",
        "    messages=messages,\n",
        "    temperature=0,\n",
        ")"
      ],
      "metadata": {
        "id": "vX192OLSFr3M"
      },
      "execution_count": 3,
      "outputs": []
    },
    {
      "cell_type": "code",
      "source": [
        "print(response.choices[0].message[\"content\"])"
      ],
      "metadata": {
        "id": "fd6_HbAXFr7L",
        "colab": {
          "base_uri": "https://localhost:8080/"
        },
        "outputId": "6f3e387f-ffa4-4ce4-885b-d8b0e6051d9b"
      },
      "execution_count": 4,
      "outputs": [
        {
          "output_type": "stream",
          "name": "stdout",
          "text": [
            "もちろんです！以下に友人の結婚式のスピーチの原稿を作成します。\n",
            "\n",
            "---\n",
            "\n",
            "皆さん、こんにちは。私は新郎/新婦の友人であり、この特別な日にスピーチをさせていただくことを光栄に思います。まずは、新郎/新婦に心からおめでとうございます！\n",
            "\n",
            "新郎/新婦とは、長い年月を共に過ごし、喜びや悲しみを分かち合ってきた大切な友人です。彼らの結婚式の日に立ち会えることは、私にとって非常に特別な瞬間です。\n",
            "\n",
            "新郎/新婦は、お互いを深く理解し、尊重し合う素晴らしいカップルです。彼らの関係は、信頼と愛情に満ちており、いつもお互いを支え合っています。これからも、彼らの絆がさらに深まり、幸せな未来を築いていくことでしょう。\n",
            "\n",
            "新郎/新婦は、それぞれの個性や才能を持ちながらも、お互いを補完し合う関係です。彼らの結婚は、お互いの強みを最大限に引き出し、共に成長し続ける素晴らしい旅の始まりです。\n",
            "\n",
            "また、新郎/新婦は、家族や友人に対しても常に思いやりを持ち、支えになってきました。彼らの結婚は、私たちにとっても喜びの日です。彼らの幸せを願いながら、私たちも彼らを支え続けていきたいと思います。\n",
            "\n",
            "最後に、新郎/新婦に対して心からの祝福を送りたいと思います。お二人の結婚生活が、笑顔と幸せに満ちたものであり、困難に立ち向かいながらも絆を深めていくことを願っています。\n",
            "\n",
            "新郎/新婦、本当におめでとうございます！今日の素晴らしい日を共有できることに感謝しています。お二人の幸せを心から祈ります。\n",
            "\n",
            "ありがとうございました。\n",
            "\n",
            "---\n",
            "\n",
            "以上が友人の結婚式のスピーチの原稿です。お役に立てれば幸いです。\n"
          ]
        }
      ]
    },
    {
      "cell_type": "code",
      "source": [
        "print(response[\"usage\"]['total_tokens'])"
      ],
      "metadata": {
        "id": "dj7gfCFhFr-e",
        "colab": {
          "base_uri": "https://localhost:8080/"
        },
        "outputId": "84fa38c2-7b07-4894-c17d-a3560db7b3f0"
      },
      "execution_count": 5,
      "outputs": [
        {
          "output_type": "stream",
          "name": "stdout",
          "text": [
            "752\n"
          ]
        }
      ]
    },
    {
      "cell_type": "code",
      "source": [],
      "metadata": {
        "id": "vLeE23XkFxAD"
      },
      "execution_count": null,
      "outputs": []
    },
    {
      "cell_type": "markdown",
      "source": [
        "### ChatGPTの呼び出しを関数化してみる"
      ],
      "metadata": {
        "id": "yJw3FX8CFxC3"
      }
    },
    {
      "cell_type": "code",
      "source": [
        "def get_completion(prompt: str, model: str=\"gpt-3.5-turbo\") -> str:\n",
        "    messages = [\n",
        "        {\"role\": \"system\", \"content\": \"あなたは親切な人工知能です\"},\n",
        "        {\"role\": \"user\", \"content\": prompt},\n",
        "    ]\n",
        "    response = openai.ChatCompletion.create(\n",
        "        model=model,\n",
        "        messages=messages,\n",
        "        temperature=0,\n",
        "    )\n",
        "    return response.choices[0].message[\"content\"]"
      ],
      "metadata": {
        "id": "ip8bVyf5FxGI"
      },
      "execution_count": 6,
      "outputs": []
    },
    {
      "cell_type": "code",
      "source": [
        "response = get_completion(\"ChatGPTについて教えてください\")\n",
        "print(response)"
      ],
      "metadata": {
        "id": "KOZHSoMXFxJZ",
        "colab": {
          "base_uri": "https://localhost:8080/"
        },
        "outputId": "a6baf230-8696-4a88-b849-49dcb56a5ab2"
      },
      "execution_count": 7,
      "outputs": [
        {
          "output_type": "stream",
          "name": "stdout",
          "text": [
            "もちろんです！ChatGPTは、OpenAIが開発した自然言語処理モデルです。ChatGPTは、ユーザーとの対話を通じて情報を提供し、質問に答えたり、会話を進めたりすることができます。\n",
            "\n",
            "ChatGPTは、大規模なトレーニングデータセットを使用して学習されており、一般的な知識や文脈を理解する能力を持っています。また、対話の流れを維持し、適切な回答を生成するための文脈を考慮することもできます。\n",
            "\n",
            "ただし、ChatGPTは人工知能であり、完璧ではありません。時には誤った情報を提供することもありますし、文脈を正しく理解できない場合もあります。そのため、提供された情報は参考程度に留め、確認や追加の調査が必要な場合は、専門家や信頼できる情報源に相談することをおすすめします。\n",
            "\n",
            "OpenAIは、ChatGPTの改善に取り組んでおり、ユーザーからのフィードバックを活用してモデルの性能を向上させています。そのため、ユーザーの皆さんからのフィードバックや質問は、モデルの改善に役立つことがあります。\n",
            "\n",
            "以上がChatGPTについての概要です。何か具体的な質問やお困りごとがあれば、お気軽にどうぞ！\n"
          ]
        }
      ]
    },
    {
      "cell_type": "code",
      "source": [],
      "metadata": {
        "id": "l72NwJjiFxNY"
      },
      "execution_count": null,
      "outputs": []
    },
    {
      "cell_type": "code",
      "source": [],
      "metadata": {
        "id": "FPiioj12FsBg"
      },
      "execution_count": null,
      "outputs": []
    },
    {
      "cell_type": "code",
      "source": [],
      "metadata": {
        "id": "5T1BYnDuFsEk"
      },
      "execution_count": null,
      "outputs": []
    },
    {
      "cell_type": "code",
      "source": [],
      "metadata": {
        "id": "Yj0oiN0HFsHm"
      },
      "execution_count": null,
      "outputs": []
    },
    {
      "cell_type": "code",
      "source": [],
      "metadata": {
        "id": "cYag-4KUFjkH"
      },
      "execution_count": null,
      "outputs": []
    }
  ]
}