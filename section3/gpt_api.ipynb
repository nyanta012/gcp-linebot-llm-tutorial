{
  "nbformat": 4,
  "nbformat_minor": 0,
  "metadata": {
    "colab": {
      "provenance": [],
      "authorship_tag": "ABX9TyMM5WEjKJ/aEZLs8zTFhYES",
      "include_colab_link": true
    },
    "kernelspec": {
      "name": "python3",
      "display_name": "Python 3"
    },
    "language_info": {
      "name": "python"
    }
  },
  "cells": [
    {
      "cell_type": "markdown",
      "metadata": {
        "id": "view-in-github",
        "colab_type": "text"
      },
      "source": [
        "<a href=\"https://colab.research.google.com/github/nyanta012/gcp-linebot-llm-tutorial/blob/main/section3/gpt_api.ipynb\" target=\"_parent\"><img src=\"https://colab.research.google.com/assets/colab-badge.svg\" alt=\"Open In Colab\"/></a>"
      ]
    },
    {
      "cell_type": "markdown",
      "source": [
        "# Google Colaboratoryのショートカットキー\n",
        "1. **現在のセルを実行し、次のセルを選択**: `Shift + Enter`\n",
        "2. **コードセルをテキストセルにする**: `Ctrl + M M`\n",
        "3. **コードセルを上に追加**: `Ctrl + M A`\n",
        "4. **コードセルを下に追加**: `Ctrl + M B`\n",
        "5. **セルの削除**: `Ctrl + M D`"
      ],
      "metadata": {
        "id": "Ah1evg3rFd9g"
      }
    },
    {
      "cell_type": "code",
      "source": [],
      "metadata": {
        "id": "CdJbstGNFjSk"
      },
      "execution_count": null,
      "outputs": []
    },
    {
      "cell_type": "code",
      "source": [],
      "metadata": {
        "id": "SjATsz4eUvl9"
      },
      "execution_count": null,
      "outputs": []
    },
    {
      "cell_type": "code",
      "source": [],
      "metadata": {
        "id": "PZec3FDMUUVz"
      },
      "execution_count": null,
      "outputs": []
    },
    {
      "cell_type": "markdown",
      "source": [
        "## 必要な機能のインストール"
      ],
      "metadata": {
        "id": "28I-koj2FjW_"
      }
    },
    {
      "cell_type": "code",
      "source": [
        "%%capture\n",
        "!pip install openai==0.28.1"
      ],
      "metadata": {
        "id": "-b8o-0-IFjah"
      },
      "execution_count": 1,
      "outputs": []
    },
    {
      "cell_type": "markdown",
      "source": [
        "## APIKeyの使用"
      ],
      "metadata": {
        "id": "mb4Nt_dOFjdy"
      }
    },
    {
      "cell_type": "code",
      "source": [
        "import getpass\n",
        "apikey = getpass.getpass(prompt = 'OpenAIのAPIキーを入力してください')\n",
        "\n",
        "import openai\n",
        "openai.api_key = apikey"
      ],
      "metadata": {
        "id": "GIJwAAPeFjg1",
        "colab": {
          "base_uri": "https://localhost:8080/"
        },
        "outputId": "509b3b9f-bd3b-45d6-cfde-b727c00710a3"
      },
      "execution_count": 2,
      "outputs": [
        {
          "name": "stdout",
          "output_type": "stream",
          "text": [
            "OpenAIのAPIキーを入力してください··········\n"
          ]
        }
      ]
    },
    {
      "cell_type": "markdown",
      "source": [
        "## ChatGPTを呼び出してみる"
      ],
      "metadata": {
        "id": "uUY5TdPfFrz6"
      }
    },
    {
      "cell_type": "code",
      "source": [
        "messages = [\n",
        "    {\"role\": \"system\", \"content\": \"あなたは親切な人工知能です\"},\n",
        "    {\"role\": \"user\", \"content\": \"友人の結婚式のスピーチの原稿を作ってください\"},\n",
        "]\n",
        "response = openai.ChatCompletion.create(\n",
        "    model=\"gpt-3.5-turbo\",\n",
        "    messages=messages,\n",
        "    temperature=0,\n",
        ")"
      ],
      "metadata": {
        "id": "vX192OLSFr3M"
      },
      "execution_count": 3,
      "outputs": []
    },
    {
      "cell_type": "code",
      "source": [
        "print(response.choices[0].message[\"content\"])"
      ],
      "metadata": {
        "id": "fd6_HbAXFr7L",
        "colab": {
          "base_uri": "https://localhost:8080/"
        },
        "outputId": "00142c5e-4842-4ca1-87d8-fedfb639e089"
      },
      "execution_count": 4,
      "outputs": [
        {
          "output_type": "stream",
          "name": "stdout",
          "text": [
            "もちろんです！以下に友人の結婚式のスピーチの原稿を作成します。\n",
            "\n",
            "---\n",
            "\n",
            "皆さん、こんにちは。私は新郎/新婦の友人であり、この特別な日にスピーチをさせていただくことを光栄に思います。まずは、新郎/新婦に心からおめでとうございます！\n",
            "\n",
            "新郎/新婦とは、長い年月を共に過ごし、喜びや悲しみを分かち合ってきた大切な友人です。彼らの結婚式の日に立ち会えることは、私にとって非常に特別な瞬間です。\n",
            "\n",
            "新郎/新婦は、お互いを深く理解し、尊重し合う素晴らしいカップルです。彼らの関係は、信頼と愛情に満ちており、いつもお互いを支え合っています。これからも、彼らの絆がさらに深まり、幸せな未来を築いていくことでしょう。\n",
            "\n",
            "新郎/新婦は、それぞれの個性や才能を持ちながらも、お互いを補完し合う関係です。彼らが一緒にいると、笑顔が絶えず溢れ、周りの人々にも幸せな気持ちを与えてくれます。彼らの結婚は、ただ二人の幸せだけでなく、私たち全員の幸せをもたらしてくれることでしょう。\n",
            "\n",
            "結婚生活には、喜びや幸せだけでなく、困難や試練もつきものです。しかし、新郎/新婦は困難を乗り越える強さと、前向きな姿勢を持っています。彼らがこれまで示してきた絆と協力の精神は、将来の困難にも立ち向かう力となるでしょう。\n",
            "\n",
            "最後に、新郎/新婦に対してのメッセージをお伝えしたいと思います。お互いを大切にし、尊重し続けてください。困難な時も、笑顔を忘れずに一緒に乗り越えてください。そして、いつまでもお互いを支え合い、幸せな家庭を築いてください。\n",
            "\n",
            "新郎/新婦、改めておめでとうございます！あなたたちの結婚式は、私たちにとって忘れられない思い出となることでしょう。幸せな未来を心から祈っています。\n",
            "\n",
            "ありがとうございました。\n",
            "\n",
            "---\n",
            "\n",
            "以上が友人の結婚式のスピーチの原稿です。お役に立てれば幸いです。\n"
          ]
        }
      ]
    },
    {
      "cell_type": "code",
      "source": [
        "print(response[\"usage\"]['total_tokens'])"
      ],
      "metadata": {
        "id": "dj7gfCFhFr-e",
        "colab": {
          "base_uri": "https://localhost:8080/"
        },
        "outputId": "1b512146-d55d-4c51-dbea-d823b3e745bc"
      },
      "execution_count": 5,
      "outputs": [
        {
          "output_type": "stream",
          "name": "stdout",
          "text": [
            "861\n"
          ]
        }
      ]
    },
    {
      "cell_type": "code",
      "source": [],
      "metadata": {
        "id": "vLeE23XkFxAD"
      },
      "execution_count": null,
      "outputs": []
    },
    {
      "cell_type": "markdown",
      "source": [
        "### ChatGPTの呼び出しを関数化してみる"
      ],
      "metadata": {
        "id": "yJw3FX8CFxC3"
      }
    },
    {
      "cell_type": "code",
      "source": [
        "def get_completion(prompt: str, model: str=\"gpt-3.5-turbo\") -> str:\n",
        "    messages = [\n",
        "        {\"role\": \"system\", \"content\": \"あなたは親切な人工知能です\"},\n",
        "        {\"role\": \"user\", \"content\": prompt},\n",
        "    ]\n",
        "    response = openai.ChatCompletion.create(\n",
        "        model=model,\n",
        "        messages=messages,\n",
        "        temperature=0,\n",
        "    )\n",
        "    return response.choices[0].message[\"content\"]"
      ],
      "metadata": {
        "id": "ip8bVyf5FxGI"
      },
      "execution_count": 6,
      "outputs": []
    },
    {
      "cell_type": "code",
      "source": [
        "response = get_completion(\"ChatGPTについて教えてください\")\n",
        "print(response)"
      ],
      "metadata": {
        "id": "KOZHSoMXFxJZ",
        "colab": {
          "base_uri": "https://localhost:8080/"
        },
        "outputId": "9d0e3b17-3ca4-4cf9-b023-4c822930a07a"
      },
      "execution_count": 7,
      "outputs": [
        {
          "output_type": "stream",
          "name": "stdout",
          "text": [
            "もちろんです！ChatGPTは、OpenAIが開発した自然言語処理モデルです。ChatGPTは、ユーザーとの対話を通じて情報を提供し、質問に答えたり、会話を進めたりすることができます。\n",
            "\n",
            "ChatGPTは、大規模なトレーニングデータセットを使用して学習されており、一般的な知識や文脈を理解する能力を持っています。ただし、時には正確な情報を提供できない場合や、誤った情報を提供することもありますので、注意が必要です。\n",
            "\n",
            "OpenAIは、ChatGPTを公開する前に、悪意のある使用や誤用を防ぐために努力しています。また、ユーザーからのフィードバックを収集し、モデルの改善に取り組んでいます。\n",
            "\n",
            "ChatGPTは、さまざまな目的に活用することができます。例えば、一般的な質問への回答、情報の検索、アイデアの提案、言語学習の補助などが挙げられます。\n",
            "\n",
            "ただし、ChatGPTは人工知能であり、人間のような意識や感情を持っているわけではありません。そのため、一部の質問や要求に対しては適切な回答や対応ができない場合もあります。\n",
            "\n",
            "以上がChatGPTについての概要です。何か具体的な質問や要望があれば、お気軽にどうぞ！\n"
          ]
        }
      ]
    },
    {
      "cell_type": "code",
      "source": [],
      "metadata": {
        "id": "l72NwJjiFxNY"
      },
      "execution_count": null,
      "outputs": []
    },
    {
      "cell_type": "code",
      "source": [],
      "metadata": {
        "id": "FPiioj12FsBg"
      },
      "execution_count": null,
      "outputs": []
    },
    {
      "cell_type": "code",
      "source": [],
      "metadata": {
        "id": "5T1BYnDuFsEk"
      },
      "execution_count": null,
      "outputs": []
    },
    {
      "cell_type": "code",
      "source": [],
      "metadata": {
        "id": "Yj0oiN0HFsHm"
      },
      "execution_count": null,
      "outputs": []
    },
    {
      "cell_type": "code",
      "source": [],
      "metadata": {
        "id": "cYag-4KUFjkH"
      },
      "execution_count": null,
      "outputs": []
    }
  ]
}