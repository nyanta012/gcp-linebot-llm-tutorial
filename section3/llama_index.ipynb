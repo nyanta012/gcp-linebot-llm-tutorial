{
  "nbformat": 4,
  "nbformat_minor": 0,
  "metadata": {
    "colab": {
      "provenance": [],
      "authorship_tag": "ABX9TyOHG+htunMPTrcktCzgFCzy",
      "include_colab_link": true
    },
    "kernelspec": {
      "name": "python3",
      "display_name": "Python 3"
    },
    "language_info": {
      "name": "python"
    }
  },
  "cells": [
    {
      "cell_type": "markdown",
      "metadata": {
        "id": "view-in-github",
        "colab_type": "text"
      },
      "source": [
        "<a href=\"https://colab.research.google.com/github/nyanta012/gcp-linebot-llm-tutorial/blob/main/section3/llama_index.ipynb\" target=\"_parent\"><img src=\"https://colab.research.google.com/assets/colab-badge.svg\" alt=\"Open In Colab\"/></a>"
      ]
    },
    {
      "cell_type": "markdown",
      "source": [
        "# Google Colaboratoryのショートカットキー\n",
        "1. **現在のセルを実行し、次のセルを選択**: `Shift + Enter`\n",
        "2. **コードセルをテキストセルにする**: `Ctrl + M M`\n",
        "3. **コードセルを上に追加**: `Ctrl + M A`\n",
        "4. **コードセルを下に追加**: `Ctrl + M B`\n",
        "5. **セルの削除**: `Ctrl + M D`"
      ],
      "metadata": {
        "id": "miKAMsT6bZnf"
      }
    },
    {
      "cell_type": "code",
      "source": [],
      "metadata": {
        "id": "lM97nw3Jbmpk"
      },
      "execution_count": null,
      "outputs": []
    },
    {
      "cell_type": "code",
      "source": [],
      "metadata": {
        "id": "oBjA6gsCbmtk"
      },
      "execution_count": null,
      "outputs": []
    },
    {
      "cell_type": "markdown",
      "source": [
        "## 必要な機能とドキュメントのインストール"
      ],
      "metadata": {
        "id": "gifBdna4bmw1"
      }
    },
    {
      "cell_type": "code",
      "source": [
        "%%capture\n",
        "!pip install llama-index==0.7.23\n",
        "!pip install openai==0.28.1\n",
        "!wget https://github.com/nyanta012/gcp-linebot-llm-tutorial/raw/main/pdf/コンプライアンスのすべて.pdf"
      ],
      "metadata": {
        "id": "mI0YKGBzbalA"
      },
      "execution_count": 1,
      "outputs": []
    },
    {
      "cell_type": "code",
      "source": [
        "import os\n",
        "import getpass\n",
        "os.environ[\"OPENAI_API_KEY\"] = getpass.getpass(prompt = 'OpenAIのAPIキーを入力してください') # llama-indexを使用する際はAPIKeyは環境変数に"
      ],
      "metadata": {
        "colab": {
          "base_uri": "https://localhost:8080/"
        },
        "id": "ME7B2vfLbaoH",
        "outputId": "5ff80bef-1adc-419b-a5e3-ba9df95746c0"
      },
      "execution_count": 2,
      "outputs": [
        {
          "name": "stdout",
          "output_type": "stream",
          "text": [
            "OpenAIのAPIキーを入力してください··········\n"
          ]
        }
      ]
    },
    {
      "cell_type": "markdown",
      "source": [
        "### PDFを参照したQ&A機能の実装"
      ],
      "metadata": {
        "id": "rzN2srZpbasU"
      }
    },
    {
      "cell_type": "code",
      "source": [
        "from pathlib import Path\n",
        "from llama_index import download_loader\n",
        "\n",
        "PDFReader = download_loader(\"PDFReader\")\n",
        "\n",
        "loader = PDFReader()\n",
        "documents = loader.load_data(file=Path(\"/content/コンプライアンスのすべて.pdf\"))"
      ],
      "metadata": {
        "id": "Zqv9D85QVWle"
      },
      "execution_count": 3,
      "outputs": []
    },
    {
      "cell_type": "code",
      "source": [
        "from llama_index import ServiceContext, LLMPredictor, VectorStoreIndex\n",
        "from langchain.chat_models import ChatOpenAI\n",
        "\n",
        "service_context = ServiceContext.from_defaults(\n",
        "    llm_predictor=LLMPredictor(\n",
        "        llm=ChatOpenAI(model_name=\"gpt-3.5-turbo-0613\", temperature=0)\n",
        "    )\n",
        ")\n",
        "\n",
        "# indexを作成\n",
        "index = VectorStoreIndex.from_documents(documents, service_context=service_context)\n",
        "index.storage_context.persist(persist_dir=\"./storage/\")"
      ],
      "metadata": {
        "id": "U_OJPs73b8zj"
      },
      "execution_count": 4,
      "outputs": []
    },
    {
      "cell_type": "code",
      "source": [
        "query_engine = index.as_query_engine()"
      ],
      "metadata": {
        "id": "Ca6FoJthb83F"
      },
      "execution_count": 5,
      "outputs": []
    },
    {
      "cell_type": "code",
      "source": [
        "response = query_engine.query(\"コンプライアンスと法的要件について教えて\")"
      ],
      "metadata": {
        "id": "Tuy7Thclb86Y"
      },
      "execution_count": 6,
      "outputs": []
    },
    {
      "cell_type": "code",
      "source": [
        "print(response)"
      ],
      "metadata": {
        "colab": {
          "base_uri": "https://localhost:8080/"
        },
        "id": "NPytQDSufxop",
        "outputId": "3d93c7ad-9fab-4748-d570-19060890f615"
      },
      "execution_count": 7,
      "outputs": [
        {
          "output_type": "stream",
          "name": "stdout",
          "text": [
            "コンプライアンスは、法的要件と規制に従うことから始まる重要な要素です。コンプライアンスの基礎として、労働法、消費者保護法、環境法、金融規制などの主要な法律や規制に関連する情報が提供されます。また、具体的な手法やリソースも紹介されています。コンプライアンスを遵守することで、法的リスクの回避や評判の維持、持続可能な成長の促進が可能となります。\n"
          ]
        }
      ]
    },
    {
      "cell_type": "code",
      "source": [
        "# 参照したドキュメントの確認\n",
        "print((response.source_nodes[0].node.get_text()))"
      ],
      "metadata": {
        "colab": {
          "base_uri": "https://localhost:8080/"
        },
        "id": "8-eNP9Ipfy5D",
        "outputId": "c67d6106-73f8-43fc-a9d9-0d8981ad9cc7"
      },
      "execution_count": 8,
      "outputs": [
        {
          "output_type": "stream",
          "name": "stdout",
          "text": [
            "【1. はじめに】 （ 500文字程度）  \n",
            "コンプライアンスは、 現代のビジネスにおいて不可欠な要素です。 遵守することで法的リス\n",
            "クの回避や評判の維持、持続可能な成長の促進が可能となります。本ガイドでは、コンプラ\n",
            "イアンスの基礎から具体的な手法まで幅広く取り上げます。コンプライアンスを組織に浸\n",
            "透させるための重要なステップや成功事例を紹介し、読者が実践に役立つ知識を習得でき\n",
            "るように構成しています。  \n",
            " \n",
            "【2. コンプライアンスの基礎】 （ 500文字程度）  \n",
            "コンプライアンスとは何か、 なぜ重要なのかを理解することから始めましょう。 この章では、\n",
            "コンプライアンスの定義と 原則、違反のリスクと影響について詳しく解説します。また、コ\n",
            "ンプライアンスのメリットや組織における役割についても触れます。コンプライアンスへ\n",
            "の取り組みは単なる法的な要求だけでなく、組織文化や倫理にも関わる重要な側面である\n",
            "ことを理解しましょう。  \n",
            " \n",
            "【3. 法的要件と規制】 （ 500文字程度）  \n",
            "コンプライアンスは、法的要件と規制に従うことから始まります。この章では、主要な法律\n",
            "や規制に関連する情報を提供します。例えば、労働法、消費者保護法、環境法、金融規制な\n",
            "ど、 ビジネスにおける重要な分野をカバーします。 これらの法的要 件を遵守するための具体\n",
            "的な手法やリソースも紹介します。  \n",
            " \n",
            "【4. 組織内のコンプライアンス文化】 （ 500文字程度）  \n",
            "コンプライアンス文化は、組織全体でのコンプライアンスへの取り組みや態度を反映しま\n",
            "す。 この章では、 組織内のコンプライアンス文化を構築するための重要な要素に焦点を当て\n",
            "ます。\n"
          ]
        }
      ]
    },
    {
      "cell_type": "code",
      "source": [
        "response = query_engine.query(\"ドラえもんの秘密道具について教えてください\")"
      ],
      "metadata": {
        "id": "esGlFIndcB9W"
      },
      "execution_count": 9,
      "outputs": []
    },
    {
      "cell_type": "code",
      "source": [
        "print(response)"
      ],
      "metadata": {
        "colab": {
          "base_uri": "https://localhost:8080/"
        },
        "id": "rSGGn9dbcGS1",
        "outputId": "081f157d-706e-484c-b518-38f515393762"
      },
      "execution_count": 10,
      "outputs": [
        {
          "output_type": "stream",
          "name": "stdout",
          "text": [
            "Based on the given context information, there is no mention of any information related to \"ドラえもんの秘密道具\" (Doraemon's secret gadgets). Therefore, it is not possible to provide any information about Doraemon's secret gadgets based on the given context.\n"
          ]
        }
      ]
    },
    {
      "cell_type": "code",
      "source": [],
      "metadata": {
        "id": "6GjXLvoKcGXD"
      },
      "execution_count": null,
      "outputs": []
    },
    {
      "cell_type": "code",
      "source": [],
      "metadata": {
        "id": "twx204O5e5z5"
      },
      "execution_count": null,
      "outputs": []
    },
    {
      "cell_type": "code",
      "source": [],
      "metadata": {
        "id": "PTwKQsKwfEUZ"
      },
      "execution_count": null,
      "outputs": []
    },
    {
      "cell_type": "markdown",
      "source": [
        "## プロンプトを書き換えることもできる"
      ],
      "metadata": {
        "id": "YM4iAwqee52Q"
      }
    },
    {
      "cell_type": "code",
      "source": [
        "# 現在設定されているプロンプトの確認\n",
        "print(query_engine._response_synthesizer._text_qa_template.prompt.template)"
      ],
      "metadata": {
        "colab": {
          "base_uri": "https://localhost:8080/"
        },
        "id": "PtzNOTW4f0lH",
        "outputId": "85323fbe-d56f-49a5-a4d1-bdfd8b470aa7"
      },
      "execution_count": 11,
      "outputs": [
        {
          "output_type": "stream",
          "name": "stdout",
          "text": [
            "Context information is below.\n",
            "---------------------\n",
            "{context_str}\n",
            "---------------------\n",
            "Given the context information and not prior knowledge, answer the question: {query_str}\n",
            "\n"
          ]
        }
      ]
    },
    {
      "cell_type": "code",
      "source": [
        "from llama_index import QuestionAnswerPrompt\n",
        "\n",
        "PROMPT_TEMPLATE = (\n",
        "    \"下記の情報が与えられています。 \\n\"\n",
        "    \"---------------------\\n\"\n",
        "    \"{context_str}\"\n",
        "    \"\\n---------------------\\n\"\n",
        "    \"この情報を参照して3個の箇条書きで次の質問に答えてください: {query_str}\\n\"\n",
        ")\n",
        "PROMPT = QuestionAnswerPrompt(PROMPT_TEMPLATE)"
      ],
      "metadata": {
        "id": "zb6NS6oycGaW"
      },
      "execution_count": 12,
      "outputs": []
    },
    {
      "cell_type": "code",
      "source": [
        "query_engine = index.as_query_engine(text_qa_template=PROMPT)"
      ],
      "metadata": {
        "id": "XxAUBC6de-jj"
      },
      "execution_count": 13,
      "outputs": []
    },
    {
      "cell_type": "code",
      "source": [
        "# 設定したプロンプトの確認\n",
        "print(query_engine._response_synthesizer._text_qa_template.prompt.template)"
      ],
      "metadata": {
        "colab": {
          "base_uri": "https://localhost:8080/"
        },
        "id": "CRgf77ihf2AQ",
        "outputId": "99c098d8-a560-4c53-81ab-1c512c8aa75d"
      },
      "execution_count": 14,
      "outputs": [
        {
          "output_type": "stream",
          "name": "stdout",
          "text": [
            "下記の情報が与えられています。 \n",
            "---------------------\n",
            "{context_str}\n",
            "---------------------\n",
            "この情報を参照して3個の箇条書きで次の質問に答えてください: {query_str}\n",
            "\n"
          ]
        }
      ]
    },
    {
      "cell_type": "code",
      "source": [
        "response = query_engine.query(\"コンプライアンスと法的要件について教えて\")"
      ],
      "metadata": {
        "id": "Q_KxZU9ge-qm"
      },
      "execution_count": 15,
      "outputs": []
    },
    {
      "cell_type": "code",
      "source": [
        "print(response)"
      ],
      "metadata": {
        "colab": {
          "base_uri": "https://localhost:8080/"
        },
        "id": "2-pu6JErf3LC",
        "outputId": "7a7917ce-852a-45f4-947d-834016cd730a"
      },
      "execution_count": 16,
      "outputs": [
        {
          "output_type": "stream",
          "name": "stdout",
          "text": [
            "- コンプライアンスは、現代のビジネスにおいて不可欠な要素であり、法的リスクの回避や評判の維持、持続可能な成長の促進が可能となる。\n",
            "- コンプライアンスは、法的要件と規制に従うことから始まり、労働法、消費者保護法、環境法、金融規制など、ビジネスにおける重要な分野をカバーする。\n",
            "- コンプライアンスの取り組みは単なる法的な要求だけでなく、組織文化や倫理にも関わる重要な側面である。\n"
          ]
        }
      ]
    },
    {
      "cell_type": "code",
      "source": [],
      "metadata": {
        "id": "FfuhyzqYfo0v"
      },
      "execution_count": 16,
      "outputs": []
    },
    {
      "cell_type": "code",
      "source": [],
      "metadata": {
        "id": "KaRw5i3Pf3-I"
      },
      "execution_count": 16,
      "outputs": []
    },
    {
      "cell_type": "code",
      "source": [],
      "metadata": {
        "id": "Z51h_dPPe-wN"
      },
      "execution_count": 16,
      "outputs": []
    },
    {
      "cell_type": "markdown",
      "source": [
        "## ベクトル化されたものを改めて使用することもできる"
      ],
      "metadata": {
        "id": "8D0TUNE6cCBL"
      }
    },
    {
      "cell_type": "markdown",
      "source": [
        "毎回全ドキュメントをベクトル化するのは大変だが、一度ベクトル化すればそれを参照することで繰り返しベクトル化をする必要はなくなる"
      ],
      "metadata": {
        "id": "ngkm4Tf3cIme"
      }
    },
    {
      "cell_type": "code",
      "source": [
        "from llama_index import StorageContext, load_index_from_storage\n",
        "\n",
        "storage_context = StorageContext.from_defaults(persist_dir=\"./storage/\") # ↑のセルで作成したベクトル情報が保存されているディレクトリ\n",
        "loaded_index = load_index_from_storage(storage_context)"
      ],
      "metadata": {
        "id": "VWI35M-8lRPD"
      },
      "execution_count": 17,
      "outputs": []
    },
    {
      "cell_type": "code",
      "source": [
        "loaded_query_engine = loaded_index.as_query_engine()"
      ],
      "metadata": {
        "id": "FTuRSgd5lR9C"
      },
      "execution_count": 18,
      "outputs": []
    },
    {
      "cell_type": "code",
      "source": [
        "# ベクトル情報を後から読み込んだ場合でも、同様の返答が作成できている\n",
        "response = loaded_query_engine.query(\"コンプライアンスと法的要件について教えて\")\n",
        "print(response)"
      ],
      "metadata": {
        "colab": {
          "base_uri": "https://localhost:8080/"
        },
        "id": "Ylq7cMgmlPuv",
        "outputId": "2e83a120-415f-44dd-96a5-3c873575cb00"
      },
      "execution_count": 19,
      "outputs": [
        {
          "output_type": "stream",
          "name": "stdout",
          "text": [
            "\n",
            "コンプライアンスとは、企業が法律や規制に従うことを指します。法的要件と規制に従うことからコンプライアンスの取り組みが始まります。主要な法律や規制に関連する情報を提供することで、企業が法的なリスクを最小限に抑えながら信頼性の高いブランドを構築することができます。輸出入規制や反贈賄法、対テロリズムなどの国際的な規制も含め、企業が法的な要件を遵守するための具体的な手法やリソースを提供します。\n"
          ]
        }
      ]
    },
    {
      "cell_type": "code",
      "source": [],
      "metadata": {
        "id": "SLlnMQdMcNwf"
      },
      "execution_count": null,
      "outputs": []
    },
    {
      "cell_type": "code",
      "source": [],
      "metadata": {
        "id": "ZL-YXkDicIxf"
      },
      "execution_count": null,
      "outputs": []
    }
  ]
}