{
  "nbformat": 4,
  "nbformat_minor": 0,
  "metadata": {
    "colab": {
      "provenance": [],
      "authorship_tag": "ABX9TyOXTMhCE/+hRxOepfCLRjmQ",
      "include_colab_link": true
    },
    "kernelspec": {
      "name": "python3",
      "display_name": "Python 3"
    },
    "language_info": {
      "name": "python"
    }
  },
  "cells": [
    {
      "cell_type": "markdown",
      "metadata": {
        "id": "view-in-github",
        "colab_type": "text"
      },
      "source": [
        "<a href=\"https://colab.research.google.com/github/nyanta012/gcp-linebot-llm-tutorial/blob/main/section4/gcs.ipynb\" target=\"_parent\"><img src=\"https://colab.research.google.com/assets/colab-badge.svg\" alt=\"Open In Colab\"/></a>"
      ]
    },
    {
      "cell_type": "markdown",
      "source": [
        "# Google Colaboratoryのショートカットキー\n",
        "1. **現在のセルを実行し、次のセルを選択**: `Shift + Enter`\n",
        "2. **コードセルをテキストセルにする**: `Ctrl + M M`\n",
        "3. **コードセルを上に追加**: `Ctrl + M A`\n",
        "4. **コードセルを下に追加**: `Ctrl + M B`\n",
        "5. **セルの削除**: `Ctrl + M D`"
      ],
      "metadata": {
        "id": "ooBPgk8pNlFp"
      }
    },
    {
      "cell_type": "code",
      "source": [],
      "metadata": {
        "id": "YBrTKRnWNl0r"
      },
      "execution_count": null,
      "outputs": []
    },
    {
      "cell_type": "markdown",
      "source": [
        "### 認証"
      ],
      "metadata": {
        "id": "eXytAD4PE_iJ"
      }
    },
    {
      "cell_type": "code",
      "source": [
        "from google.colab import auth\n",
        "auth.authenticate_user()"
      ],
      "metadata": {
        "id": "DZyKbvkfFRfp"
      },
      "execution_count": 1,
      "outputs": []
    },
    {
      "cell_type": "markdown",
      "source": [
        "### GCS APIの使用"
      ],
      "metadata": {
        "id": "6ZZ_TKrcFRp9"
      }
    },
    {
      "cell_type": "code",
      "source": [
        "from google.cloud import storage"
      ],
      "metadata": {
        "id": "ZoWrh0OmFRsh"
      },
      "execution_count": 2,
      "outputs": []
    },
    {
      "cell_type": "code",
      "source": [
        "storage_client = storage.Client()\n",
        "bucket = storage_client.bucket(\"udemy-demo-1\")"
      ],
      "metadata": {
        "id": "IrsQnT1wFRvW"
      },
      "execution_count": 3,
      "outputs": []
    },
    {
      "cell_type": "code",
      "source": [],
      "metadata": {
        "id": "mJzz3eWOMVXI"
      },
      "execution_count": null,
      "outputs": []
    },
    {
      "cell_type": "markdown",
      "source": [
        "### ファイルのアップロード"
      ],
      "metadata": {
        "id": "YpVrZ4VxKM2d"
      }
    },
    {
      "cell_type": "code",
      "source": [
        "%%capture\n",
        "!wget https://github.com/nyanta012/gcp-linebot-llm-tutorial/raw/main/pdf/コンプライアンスのすべて.pdf"
      ],
      "metadata": {
        "id": "G-L9V9LNMndz"
      },
      "execution_count": 4,
      "outputs": []
    },
    {
      "cell_type": "code",
      "source": [
        "blob = bucket.blob(\"upload_from_colab.pdf\")\n",
        "blob.upload_from_filename(\"/content/コンプライアンスのすべて.pdf\")"
      ],
      "metadata": {
        "id": "y7c1Ul8AKO20"
      },
      "execution_count": 5,
      "outputs": []
    },
    {
      "cell_type": "code",
      "source": [],
      "metadata": {
        "id": "lRUQB5S1M4Aq"
      },
      "execution_count": null,
      "outputs": []
    },
    {
      "cell_type": "markdown",
      "source": [
        "### ファイルのダウンロード"
      ],
      "metadata": {
        "id": "hqN7FGFwKRoK"
      }
    },
    {
      "cell_type": "code",
      "source": [
        "blob = bucket.blob(\"upload_from_colab.pdf\")"
      ],
      "metadata": {
        "id": "Tf46CO5BNAni"
      },
      "execution_count": 6,
      "outputs": []
    },
    {
      "cell_type": "code",
      "source": [
        "blob.download_to_filename(\"downloaded.pdf\")"
      ],
      "metadata": {
        "id": "fFoMX6DbKRrS"
      },
      "execution_count": 7,
      "outputs": []
    },
    {
      "cell_type": "code",
      "source": [],
      "metadata": {
        "id": "Abrm7Y1KKRvR"
      },
      "execution_count": null,
      "outputs": []
    },
    {
      "cell_type": "code",
      "source": [],
      "metadata": {
        "id": "bOi8Lf6MKDZO"
      },
      "execution_count": null,
      "outputs": []
    },
    {
      "cell_type": "code",
      "source": [],
      "metadata": {
        "id": "0AQQXEcBKDc-"
      },
      "execution_count": null,
      "outputs": []
    },
    {
      "cell_type": "code",
      "source": [],
      "metadata": {
        "id": "7OYWvwNvKDfz"
      },
      "execution_count": null,
      "outputs": []
    }
  ]
}