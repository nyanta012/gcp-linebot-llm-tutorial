{
  "nbformat": 4,
  "nbformat_minor": 0,
  "metadata": {
    "colab": {
      "provenance": [],
      "authorship_tag": "ABX9TyO42kwZ093LaBHAss2THKbs",
      "include_colab_link": true
    },
    "kernelspec": {
      "name": "python3",
      "display_name": "Python 3"
    },
    "language_info": {
      "name": "python"
    }
  },
  "cells": [
    {
      "cell_type": "markdown",
      "metadata": {
        "id": "view-in-github",
        "colab_type": "text"
      },
      "source": [
        "<a href=\"https://colab.research.google.com/github/nyanta012/gcp-linebot-llm-tutorial/blob/main/section4/firestore.ipynb\" target=\"_parent\"><img src=\"https://colab.research.google.com/assets/colab-badge.svg\" alt=\"Open In Colab\"/></a>"
      ]
    },
    {
      "cell_type": "markdown",
      "source": [
        "# Google Colaboratoryのショートカットキー\n",
        "1. **現在のセルを実行し、次のセルを選択**: `Shift + Enter`\n",
        "2. **コードセルをテキストセルにする**: `Ctrl + M M`\n",
        "3. **コードセルを上に追加**: `Ctrl + M A`\n",
        "4. **コードセルを下に追加**: `Ctrl + M B`\n",
        "5. **セルの削除**: `Ctrl + M D`"
      ],
      "metadata": {
        "id": "Tte_-VK5hRjY"
      }
    },
    {
      "cell_type": "code",
      "source": [],
      "metadata": {
        "id": "PUJiqWILhgfj"
      },
      "execution_count": null,
      "outputs": []
    },
    {
      "cell_type": "markdown",
      "source": [
        "## 認証"
      ],
      "metadata": {
        "id": "r1ueR0Shhgmz"
      }
    },
    {
      "cell_type": "code",
      "source": [
        "from google.colab import auth\n",
        "auth.authenticate_user()"
      ],
      "metadata": {
        "id": "2zIPqii2hgpn"
      },
      "execution_count": null,
      "outputs": []
    },
    {
      "cell_type": "code",
      "source": [],
      "metadata": {
        "id": "WbDB_AKGhgs5"
      },
      "execution_count": null,
      "outputs": []
    },
    {
      "cell_type": "markdown",
      "source": [
        "## Firestore APIの使用"
      ],
      "metadata": {
        "id": "cNpedzUUhqvW"
      }
    },
    {
      "cell_type": "code",
      "source": [
        "from google.cloud import firestore"
      ],
      "metadata": {
        "id": "zyHSH483hqzx"
      },
      "execution_count": null,
      "outputs": []
    },
    {
      "cell_type": "code",
      "source": [],
      "metadata": {
        "id": "BqnSn8KLhst3"
      },
      "execution_count": null,
      "outputs": []
    },
    {
      "cell_type": "markdown",
      "source": [
        "### 書き込みデモ"
      ],
      "metadata": {
        "id": "Pqdv6r2ihszS"
      }
    },
    {
      "cell_type": "code",
      "source": [
        "import datetime\n",
        "# Firestoreへの接続\n",
        "db = firestore.Client(project=\"tonal-limiter-398122\")"
      ],
      "metadata": {
        "id": "lnTB6T7bhs2k"
      },
      "execution_count": null,
      "outputs": []
    },
    {
      "cell_type": "code",
      "source": [
        "# ブログ記事を追加\n",
        "blog_data = {\n",
        "    \"title\": \"My First Blog\",\n",
        "    \"content\": \"This is my first blog post!\",\n",
        "    \"posted_at\": datetime.datetime.now(),\n",
        "}\n",
        "blog_ref = db.collection('blogs').add(blog_data)[1]"
      ],
      "metadata": {
        "id": "c72WbpdkpmY4"
      },
      "execution_count": null,
      "outputs": []
    },
    {
      "cell_type": "code",
      "source": [
        "# 2つ目のブログ記事を追加\n",
        "blog_data = {\n",
        "    \"title\": \"My Second Blog\",\n",
        "    \"content\": \"This is my second blog post!\",\n",
        "    \"posted_at\": datetime.datetime.now(),\n",
        "}\n",
        "db.collection('blogs').add(blog_data)"
      ],
      "metadata": {
        "colab": {
          "base_uri": "https://localhost:8080/"
        },
        "id": "yw9aSsDltarj",
        "outputId": "e8655d9d-4bcd-4e29-ead5-7ca3d939acfd"
      },
      "execution_count": null,
      "outputs": [
        {
          "output_type": "execute_result",
          "data": {
            "text/plain": [
              "(DatetimeWithNanoseconds(2023, 9, 5, 23, 53, 55, 159318, tzinfo=datetime.timezone.utc),\n",
              " <google.cloud.firestore_v1.document.DocumentReference at 0x7f9fbc7d2c80>)"
            ]
          },
          "metadata": {},
          "execution_count": 5
        }
      ]
    },
    {
      "cell_type": "code",
      "source": [
        "# コメントを追加（サブコレクションを使用）\n",
        "comment_data = {\n",
        "    \"user\": \"john_doe\",\n",
        "    \"comment\": \"Great post!\",\n",
        "    \"commented_at\": datetime.datetime.now(),\n",
        "}\n",
        "blog_ref.collection('comments').add(comment_data)"
      ],
      "metadata": {
        "colab": {
          "base_uri": "https://localhost:8080/"
        },
        "id": "cI2gtv-ysYo7",
        "outputId": "1c7b75bc-2283-4c34-e5df-f6d35d5c196e"
      },
      "execution_count": null,
      "outputs": [
        {
          "output_type": "execute_result",
          "data": {
            "text/plain": [
              "(DatetimeWithNanoseconds(2023, 9, 5, 23, 56, 8, 158186, tzinfo=datetime.timezone.utc),\n",
              " <google.cloud.firestore_v1.document.DocumentReference at 0x7f9fbc7d2b60>)"
            ]
          },
          "metadata": {},
          "execution_count": 6
        }
      ]
    },
    {
      "cell_type": "code",
      "source": [
        "# コメントを追加（サブコレクションを使用）\n",
        "comment_data = {\n",
        "    \"user\": \"steve\",\n",
        "    \"comment\": \"Excellent post!\",\n",
        "    \"commented_at\": datetime.datetime.now(),\n",
        "}\n",
        "blog_ref.collection('comments').add(comment_data)"
      ],
      "metadata": {
        "colab": {
          "base_uri": "https://localhost:8080/"
        },
        "id": "GN0eCumvskxq",
        "outputId": "4fd07ad8-86e3-4110-c2c8-d5cc103b7ee2"
      },
      "execution_count": null,
      "outputs": [
        {
          "output_type": "execute_result",
          "data": {
            "text/plain": [
              "(DatetimeWithNanoseconds(2023, 9, 6, 0, 4, 1, 979109, tzinfo=datetime.timezone.utc),\n",
              " <google.cloud.firestore_v1.document.DocumentReference at 0x7f9fbc7d0160>)"
            ]
          },
          "metadata": {},
          "execution_count": 7
        }
      ]
    },
    {
      "cell_type": "code",
      "source": [],
      "metadata": {
        "id": "xJMvqE9vjWZV"
      },
      "execution_count": null,
      "outputs": []
    },
    {
      "cell_type": "markdown",
      "source": [
        "### 会話履歴の保存"
      ],
      "metadata": {
        "id": "eYQNjLkzt7SV"
      }
    },
    {
      "cell_type": "code",
      "source": [
        "def insert_message(conversation_id: str, sender: str, receiver: str, message: str) -> None:\n",
        "    # コレクション参照\n",
        "    collection_ref = (\n",
        "        db.collection(\"conversations\").document(conversation_id).collection(\"messages\")\n",
        "    )\n",
        "\n",
        "    # 挿入するデータ\n",
        "    data = {\n",
        "        \"sender\": sender,\n",
        "        \"receiver\": receiver,\n",
        "        \"message\": message,\n",
        "        \"timestamp\": datetime.datetime.now(),\n",
        "    }\n",
        "\n",
        "    # データをFirestoreに挿入\n",
        "    collection_ref.add(data)"
      ],
      "metadata": {
        "id": "oS9CH37Nhu0o"
      },
      "execution_count": null,
      "outputs": []
    },
    {
      "cell_type": "code",
      "source": [
        "insert_message(conversation_id=\"conversation1\", sender=\"user1\", receiver=\"user2\", message=\"こんにちは！\")\n",
        "insert_message(conversation_id=\"conversation1\", sender=\"user2\", receiver=\"user1\", message=\"久しぶり〜\")\n",
        "insert_message(conversation_id=\"conversation1\", sender=\"user1\", receiver=\"user2\", message=\"1年ぶりくらいかな\")"
      ],
      "metadata": {
        "id": "MBJkkp1Ehu4K"
      },
      "execution_count": null,
      "outputs": []
    },
    {
      "cell_type": "code",
      "source": [
        "insert_message(conversation_id=\"conversation2\", sender=\"user3\", receiver=\"user4\", message=\"明日の宿題何だっけ\")\n",
        "insert_message(conversation_id=\"conversation2\", sender=\"user4\", receiver=\"user3\", message=\"何の科目の話？\")\n",
        "insert_message(conversation_id=\"conversation2\", sender=\"user3\", receiver=\"user4\", message=\"物理\")"
      ],
      "metadata": {
        "id": "INZQdcp9hu7M"
      },
      "execution_count": null,
      "outputs": []
    },
    {
      "cell_type": "code",
      "source": [],
      "metadata": {
        "id": "FQFqpvHPhydK"
      },
      "execution_count": null,
      "outputs": []
    },
    {
      "cell_type": "markdown",
      "source": [
        "### 読み込み"
      ],
      "metadata": {
        "id": "yfaf_lnxhyg6"
      }
    },
    {
      "cell_type": "code",
      "source": [
        "collection_ref = db.collection(\"conversations\").document(\"conversation1\").collection(\"messages\")\n",
        "\n",
        "# コレクション内の全てのドキュメントを取得\n",
        "docs = collection_ref.get()"
      ],
      "metadata": {
        "id": "XoZ5ftXZhyjs"
      },
      "execution_count": null,
      "outputs": []
    },
    {
      "cell_type": "code",
      "source": [
        "for doc in docs:\n",
        "  data = doc.to_dict()\n",
        "  message = {\n",
        "      \"sender\": data[\"sender\"],\n",
        "      \"receiver\": data[\"receiver\"],\n",
        "      \"message\": data[\"message\"],\n",
        "      \"timestamp\": data[\"timestamp\"],\n",
        "  }\n",
        "  print(message)"
      ],
      "metadata": {
        "id": "7caJij9-h0pU",
        "colab": {
          "base_uri": "https://localhost:8080/"
        },
        "outputId": "d79cf002-0402-448f-97d4-8090c318a519"
      },
      "execution_count": null,
      "outputs": [
        {
          "output_type": "stream",
          "name": "stdout",
          "text": [
            "{'sender': 'user1', 'receiver': 'user2', 'message': '1年ぶりくらいかな', 'timestamp': DatetimeWithNanoseconds(2023, 9, 6, 0, 8, 40, 556860, tzinfo=datetime.timezone.utc)}\n",
            "{'sender': 'user2', 'receiver': 'user1', 'message': '久しぶり〜', 'timestamp': DatetimeWithNanoseconds(2023, 9, 6, 0, 8, 40, 341048, tzinfo=datetime.timezone.utc)}\n",
            "{'sender': 'user1', 'receiver': 'user2', 'message': 'こんにちは！', 'timestamp': DatetimeWithNanoseconds(2023, 9, 6, 0, 8, 39, 390707, tzinfo=datetime.timezone.utc)}\n"
          ]
        }
      ]
    },
    {
      "cell_type": "code",
      "source": [
        "# 最新のものだけを取得\n",
        "collection_ref = db.collection(\"conversations\").document(\"conversation1\").collection(\"messages\")\n",
        "query = collection_ref.order_by(\"timestamp\", direction=firestore.Query.DESCENDING).limit(1)\n",
        "docs = query.get()"
      ],
      "metadata": {
        "id": "_7YUsnxjh0r4"
      },
      "execution_count": null,
      "outputs": []
    },
    {
      "cell_type": "code",
      "source": [
        "for doc in docs:\n",
        "  data = doc.to_dict()\n",
        "  message = {\n",
        "      \"sender\": data[\"sender\"],\n",
        "      \"receiver\": data[\"receiver\"],\n",
        "      \"message\": data[\"message\"],\n",
        "      \"timestamp\": data[\"timestamp\"],\n",
        "  }\n",
        "  print(message)"
      ],
      "metadata": {
        "id": "fvpJrEQfh0vo",
        "colab": {
          "base_uri": "https://localhost:8080/"
        },
        "outputId": "4bea942d-b1a9-414e-ef53-53238a9fe3af"
      },
      "execution_count": null,
      "outputs": [
        {
          "output_type": "stream",
          "name": "stdout",
          "text": [
            "{'sender': 'user1', 'receiver': 'user2', 'message': '1年ぶりくらいかな', 'timestamp': DatetimeWithNanoseconds(2023, 9, 6, 0, 8, 40, 556860, tzinfo=datetime.timezone.utc)}\n"
          ]
        }
      ]
    },
    {
      "cell_type": "code",
      "source": [],
      "metadata": {
        "id": "_5uoKdihhgvs"
      },
      "execution_count": null,
      "outputs": []
    }
  ]
}